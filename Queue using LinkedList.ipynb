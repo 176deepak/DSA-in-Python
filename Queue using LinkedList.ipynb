{
 "cells": [
  {
   "cell_type": "code",
   "execution_count": null,
   "id": "0fd77f06",
   "metadata": {},
   "outputs": [
    {
     "name": "stdout",
     "output_type": "stream",
     "text": [
      "Queue operarions:-\n",
      "1.Enqueue operation\n",
      "2.Dequeue operation\n",
      "3.Exit\n",
      "Enter your choice: 3\n",
      "Queue is empty.\n",
      "Enter your choice: 1\n",
      "Enter element's value: 10\n",
      "Element added successfully.\n",
      "Enter your choice: 1\n",
      "Enter element's value: 20\n",
      "Element added successfully.\n",
      "Enter your choice: 1\n",
      "Enter element's value: 30\n",
      "Element added successfully.\n",
      "Enter your choice: 1\n",
      "Enter element's value: 40\n",
      "Element added successfully.\n",
      "Enter your choice: 1\n",
      "Enter element's value: 50\n",
      "Element added successfully.\n",
      "Enter your choice: 3\n",
      "Elements in Queue: 10 20 30 40 50 Enter your choice: 2\n",
      "Deleted item is:  10\n",
      "Enter your choice: 3\n",
      "Elements in Queue: 20 30 40 50 "
     ]
    }
   ],
   "source": [
    "class Node:\n",
    "    def __init__(self, data):\n",
    "       self.data = data\n",
    "       self.next = None\n",
    " \n",
    "class Queue:\n",
    "    def __init__(self):\n",
    "        self.head = None\n",
    "        self.last = None\n",
    " \n",
    "    def enqueue(self, data):\n",
    "        if self.last is None:\n",
    "            self.head = Node(data)\n",
    "            self.last = self.head\n",
    "        else:\n",
    "            self.last.next = Node(data)\n",
    "            self.last = self.last.next\n",
    "            \n",
    "        print(\"Element added successfully.\")\n",
    " \n",
    "    def dequeue(self):\n",
    "        if self.head is None:\n",
    "            print(\"Underflow! Queue is empty.\")\n",
    "        else:\n",
    "            to_return = self.head.data\n",
    "            self.head = self.head.next\n",
    "            print(\"Deleted item is: \",to_return)\n",
    "    \n",
    "    def show(self):\n",
    "        if self.head != None:\n",
    "            print(\"Elements in Queue: \",end=\"\")\n",
    "            iter = self.head\n",
    "            while True:\n",
    "                print(iter.data, end=\" \")\n",
    "                if iter.next == None:\n",
    "                    break\n",
    "                else:\n",
    "                    iter = iter.next\n",
    "        else:\n",
    "            print(\"Queue is empty.\")\n",
    " \n",
    "queue = Queue()\n",
    "print(\"Queue operarions:-\\n1.Enqueue operation\\n2.Dequeue operation\\n3.Exit\")\n",
    "\n",
    "while True:\n",
    "    choice = int(input(\"Enter your choice: \"))\n",
    "    if choice == 1:\n",
    "        element = int(input(\"Enter element's value: \"))\n",
    "        queue.enqueue(element)\n",
    "    elif choice == 2:\n",
    "        queue.dequeue()\n",
    "    elif choice == 3:\n",
    "        queue.show()\n",
    "    elif choice == 4:\n",
    "        break\n",
    "        "
   ]
  },
  {
   "cell_type": "code",
   "execution_count": null,
   "id": "57017b5c",
   "metadata": {},
   "outputs": [],
   "source": []
  },
  {
   "cell_type": "code",
   "execution_count": null,
   "id": "49050161",
   "metadata": {},
   "outputs": [],
   "source": []
  }
 ],
 "metadata": {
  "kernelspec": {
   "display_name": "Python 3 (ipykernel)",
   "language": "python",
   "name": "python3"
  },
  "language_info": {
   "codemirror_mode": {
    "name": "ipython",
    "version": 3
   },
   "file_extension": ".py",
   "mimetype": "text/x-python",
   "name": "python",
   "nbconvert_exporter": "python",
   "pygments_lexer": "ipython3",
   "version": "3.9.13"
  }
 },
 "nbformat": 4,
 "nbformat_minor": 5
}
