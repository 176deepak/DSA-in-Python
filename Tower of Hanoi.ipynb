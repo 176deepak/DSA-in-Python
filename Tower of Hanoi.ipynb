{
 "cells": [
  {
   "cell_type": "code",
   "execution_count": 1,
   "id": "dfcb4db3",
   "metadata": {},
   "outputs": [
    {
     "name": "stdout",
     "output_type": "stream",
     "text": [
      "Enter total number of disks: 3\n",
      "Move disk 1 from Base Tower to Destination Tower\n",
      "Move disk 2 from Base Tower to Auxilary Tower\n",
      "Move disk 1 from Destination Tower to Auxilary Tower\n",
      "Move disk 3 from Base Tower to Destination Tower\n",
      "Move disk 1 from Auxilary Tower to Base Tower\n",
      "Move disk 2 from Auxilary Tower to Destination Tower\n",
      "Move disk 1 from Base Tower to Destination Tower\n"
     ]
    }
   ],
   "source": [
    "# 3. Tower of Hanoi problem\n",
    "\n",
    "disk = int(input(\"Enter total number of disks: \"))\n",
    "t1 = \"Base Tower\"\n",
    "t2 = \"Auxilary Tower\"\n",
    "t3 = \"Destination Tower\"\n",
    "\n",
    "\n",
    "def hanoi(n, t1, t3, t2):\n",
    "    if n == 1:\n",
    "        print(\"Move disk\",1,\"from\",t1,\"to\",t3)\n",
    "    else:\n",
    "        hanoi(n-1, t1, t2, t3)\n",
    "        print(\"Move disk\",n,\"from\",t1,\"to\",t3)\n",
    "        hanoi(n-1, t2, t3, t1)\n",
    "        \n",
    "hanoi(disk, t1, t3, t2)                                                 \n"
   ]
  },
  {
   "cell_type": "code",
   "execution_count": null,
   "id": "9c1dbb44",
   "metadata": {},
   "outputs": [],
   "source": [
    "                                                "
   ]
  }
 ],
 "metadata": {
  "kernelspec": {
   "display_name": "Python 3 (ipykernel)",
   "language": "python",
   "name": "python3"
  },
  "language_info": {
   "codemirror_mode": {
    "name": "ipython",
    "version": 3
   },
   "file_extension": ".py",
   "mimetype": "text/x-python",
   "name": "python",
   "nbconvert_exporter": "python",
   "pygments_lexer": "ipython3",
   "version": "3.9.13"
  }
 },
 "nbformat": 4,
 "nbformat_minor": 5
}
