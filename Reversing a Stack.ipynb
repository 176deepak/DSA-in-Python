{
 "cells": [
  {
   "cell_type": "code",
   "execution_count": 1,
   "id": "8fbd4378",
   "metadata": {},
   "outputs": [
    {
     "name": "stdout",
     "output_type": "stream",
     "text": [
      "Enter size of array: 5\n",
      "Enter value for 1 element: 10\n",
      "Enter value for 2 element: 20\n",
      "Enter value for 3 element: 30\n",
      "Enter value for 4 element: 40\n",
      "Enter value for 5 element: 50\n",
      "Array:  [10, 20, 30, 40, 50]\n",
      "Reversed list is:  [50, 40, 30, 20, 10]\n"
     ]
    }
   ],
   "source": [
    "# Program for reversing a list using stack\n",
    "\n",
    "size = int(input(\"Enter size of array: \"))\n",
    "\n",
    "class Stack:\n",
    "    def __init__(self):\n",
    "        self.TOP = -1\n",
    "        self.MAX = size-1\n",
    "        self.stack = [None for i in range(size)]\n",
    "    \n",
    "    def push(self):\n",
    "        for i in range(size):\n",
    "            print(\"Enter value for\",i+1,\"element: \", end=\"\")\n",
    "            value = int(input())\n",
    "            self.TOP = i\n",
    "            self.stack[i] = value\n",
    "        print(\"Array: \",self.stack)\n",
    "    \n",
    "    def pop(self):\n",
    "        popped_element = self.stack[self.TOP]\n",
    "        self.TOP = self.TOP-1\n",
    "        return popped_element\n",
    "\n",
    "s = Stack()\n",
    "\n",
    "def reverse():\n",
    "    reversed_list = []\n",
    "    s.push()\n",
    "    for i in range(size):\n",
    "        element = s.pop()\n",
    "        reversed_list.append(element)\n",
    "    print(\"Reversed Array is: \",reversed_list)\n",
    "    \n",
    "reverse()"
   ]
  },
  {
   "cell_type": "code",
   "execution_count": null,
   "id": "0cc3958d",
   "metadata": {},
   "outputs": [],
   "source": []
  }
 ],
 "metadata": {
  "kernelspec": {
   "display_name": "Python 3 (ipykernel)",
   "language": "python",
   "name": "python3"
  },
  "language_info": {
   "codemirror_mode": {
    "name": "ipython",
    "version": 3
   },
   "file_extension": ".py",
   "mimetype": "text/x-python",
   "name": "python",
   "nbconvert_exporter": "python",
   "pygments_lexer": "ipython3",
   "version": "3.9.13"
  }
 },
 "nbformat": 4,
 "nbformat_minor": 5
}
