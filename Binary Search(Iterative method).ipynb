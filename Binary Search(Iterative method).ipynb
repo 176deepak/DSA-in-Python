{
 "cells": [
  {
   "cell_type": "code",
   "execution_count": null,
   "id": "5ede00e3",
   "metadata": {},
   "outputs": [],
   "source": [
    "# Binary search iterative method\n",
    "\n",
    "array = [10, 20, 30, 40, 50, 60, 70, 80, 90, 100]\n",
    "n = 10\n",
    "\n",
    "item = int(input(\"Enter value which you want to find: \"))\n",
    "\n",
    "def binarySearch(array, n, item):\n",
    "    start = 0\n",
    "    end = n-1\n",
    "    mid = (start+end)//2\n",
    "    \n",
    "    while((start <= end) and (array[mid]!=item)):\n",
    "        if item < array[mid]:\n",
    "            end = mid-1\n",
    "        elif item > array[mid]:\n",
    "            start = mid+1\n",
    "        \n",
    "        mid = (start+end)//2\n",
    "        \n",
    "    if start > end:\n",
    "        return -1\n",
    "    else:\n",
    "        return mid\n",
    "    \n",
    "binarySearch(array, n, item)"
   ]
  },
  {
   "cell_type": "code",
   "execution_count": null,
   "id": "5d881c08",
   "metadata": {},
   "outputs": [],
   "source": []
  }
 ],
 "metadata": {
  "kernelspec": {
   "display_name": "Python 3 (ipykernel)",
   "language": "python",
   "name": "python3"
  },
  "language_info": {
   "codemirror_mode": {
    "name": "ipython",
    "version": 3
   },
   "file_extension": ".py",
   "mimetype": "text/x-python",
   "name": "python",
   "nbconvert_exporter": "python",
   "pygments_lexer": "ipython3",
   "version": "3.9.13"
  }
 },
 "nbformat": 4,
 "nbformat_minor": 5
}
