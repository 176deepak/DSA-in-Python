{
 "cells": [
  {
   "cell_type": "markdown",
   "id": "bb3eda10",
   "metadata": {},
   "source": [
    "## Selection sort algorithm"
   ]
  },
  {
   "cell_type": "code",
   "execution_count": 9,
   "id": "5cf8e200",
   "metadata": {},
   "outputs": [
    {
     "name": "stdout",
     "output_type": "stream",
     "text": [
      "Enter size of array: 5\n",
      "Enter element of array: 100\n",
      "Enter element of array: 2\n",
      "Enter element of array: 5\n",
      "Enter element of array: 3\n",
      "Enter element of array: 200\n",
      "Array before SelectionSort:  [100, 2, 5, 3, 200]\n",
      "Array after SelectionSort:  [2, 3, 5, 100, 200]\n"
     ]
    }
   ],
   "source": [
    "n = int(input(\"Enter size of array: \"))\n",
    "array = []\n",
    "\n",
    "for i in range(n):\n",
    "    element = int(input(\"Enter element of array: \"))\n",
    "    array.append(element)\n",
    "\n",
    "print(\"Array before SelectionSort: \", array)\n",
    "\n",
    "def selectionSort(arr, n):\n",
    "    for i in range(n):\n",
    "        min = arr[i]\n",
    "        loc = 0\n",
    "        for j in range(i+1, n):\n",
    "            if min > arr[j]:\n",
    "                min = arr[j]\n",
    "                loc = j\n",
    "        if loc != 0:\n",
    "            temp = arr[i]\n",
    "            arr[i] = min \n",
    "            arr[loc] = temp\n",
    "\n",
    "selectionSort(array, n)\n",
    "print(\"Array after SelectionSort: \", array)"
   ]
  },
  {
   "cell_type": "code",
   "execution_count": null,
   "id": "544ae504",
   "metadata": {},
   "outputs": [],
   "source": []
  }
 ],
 "metadata": {
  "kernelspec": {
   "display_name": "Python 3 (ipykernel)",
   "language": "python",
   "name": "python3"
  },
  "language_info": {
   "codemirror_mode": {
    "name": "ipython",
    "version": 3
   },
   "file_extension": ".py",
   "mimetype": "text/x-python",
   "name": "python",
   "nbconvert_exporter": "python",
   "pygments_lexer": "ipython3",
   "version": "3.9.13"
  }
 },
 "nbformat": 4,
 "nbformat_minor": 5
}
