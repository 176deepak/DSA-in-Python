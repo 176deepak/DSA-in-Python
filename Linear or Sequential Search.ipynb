{
 "cells": [
  {
   "cell_type": "code",
   "execution_count": 3,
   "id": "b20ef190",
   "metadata": {},
   "outputs": [
    {
     "name": "stdout",
     "output_type": "stream",
     "text": [
      "Enter size of array: 5\n",
      "Enter value: 5\n",
      "Enter value: 10\n",
      "Enter value: 15\n",
      "Enter value: 20\n",
      "Enter value: 25\n",
      "Enter value which you want to find: 20\n"
     ]
    },
    {
     "data": {
      "text/plain": [
       "('element found at index', 3)"
      ]
     },
     "execution_count": 3,
     "metadata": {},
     "output_type": "execute_result"
    }
   ],
   "source": [
    "#Linear search Program\n",
    "\n",
    "size = int(input(\"Enter size of array: \"))\n",
    "array = []\n",
    "\n",
    "for i in range(size):\n",
    "    element = int(input(\"Enter value: \"))\n",
    "    array.append(element)\n",
    "\n",
    "item = int(input(\"Enter value which you want to find: \"))\n",
    "\n",
    "def search(array, size, item):\n",
    "    for i in range(size):\n",
    "        if item == array[i]:\n",
    "            return \"element found at index\",i\n",
    "\n",
    "    return -1\n",
    "\n",
    "search(array, size, item)"
   ]
  },
  {
   "cell_type": "code",
   "execution_count": null,
   "id": "71fc0224",
   "metadata": {},
   "outputs": [],
   "source": []
  }
 ],
 "metadata": {
  "kernelspec": {
   "display_name": "Python 3 (ipykernel)",
   "language": "python",
   "name": "python3"
  },
  "language_info": {
   "codemirror_mode": {
    "name": "ipython",
    "version": 3
   },
   "file_extension": ".py",
   "mimetype": "text/x-python",
   "name": "python",
   "nbconvert_exporter": "python",
   "pygments_lexer": "ipython3",
   "version": "3.9.13"
  }
 },
 "nbformat": 4,
 "nbformat_minor": 5
}
