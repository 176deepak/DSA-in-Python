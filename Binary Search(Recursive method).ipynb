{
 "cells": [
  {
   "cell_type": "code",
   "execution_count": null,
   "id": "b4128ea4",
   "metadata": {},
   "outputs": [],
   "source": [
    "# Recursive method\n",
    "\n",
    "array = [10, 20, 30, 40, 50, 60, 70, 80, 90, 100]\n",
    "n = 10\n",
    "\n",
    "item = int(input(\"Enter value which you want to find: \"))\n",
    "\n",
    "def binarySearchRec(array, start, end, item):\n",
    "    if start > end:\n",
    "        return -1\n",
    "    else:\n",
    "        mid = (start+end)//2\n",
    "        if item == array[mid]:\n",
    "            return mid\n",
    "        elif item < array[mid]:\n",
    "            return binarySearchRec(array, start, mid-1, item)\n",
    "        else: \n",
    "            return binarySearchRec(array, mid+1, end, item)\n",
    "        \n",
    "binarySearchRec(array, 0, 9, item)"
   ]
  },
  {
   "cell_type": "code",
   "execution_count": null,
   "id": "ae50a99a",
   "metadata": {},
   "outputs": [],
   "source": []
  }
 ],
 "metadata": {
  "kernelspec": {
   "display_name": "Python 3 (ipykernel)",
   "language": "python",
   "name": "python3"
  },
  "language_info": {
   "codemirror_mode": {
    "name": "ipython",
    "version": 3
   },
   "file_extension": ".py",
   "mimetype": "text/x-python",
   "name": "python",
   "nbconvert_exporter": "python",
   "pygments_lexer": "ipython3",
   "version": "3.9.13"
  }
 },
 "nbformat": 4,
 "nbformat_minor": 5
}
