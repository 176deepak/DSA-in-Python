{
 "cells": [
  {
   "cell_type": "code",
   "execution_count": 2,
   "id": "dc8b8f05",
   "metadata": {},
   "outputs": [
    {
     "name": "stdout",
     "output_type": "stream",
     "text": [
      "array before insertion sort: [29, 34, 20, 56, 39, 10, 100, 90, 45, 89]\n",
      "array after insertion sort: [10, 20, 29, 34, 39, 45, 56, 89, 90, 100]\n"
     ]
    }
   ],
   "source": [
    "#insertion sort technique\n",
    "\n",
    "array = [29, 34, 20, 56, 39, 10, 100, 90, 45, 89]\n",
    "print(\"array before insertion sort:\",array)\n",
    "\n",
    "for i in range(1, (len(array))):\n",
    "    temp = array[i]\n",
    "    j = i-1\n",
    "    \n",
    "    while(temp < array[j] and j >= 0):\n",
    "        array[j+1] = array[j]\n",
    "        j = j-1\n",
    "    \n",
    "    array[j+1] = temp\n",
    "\n",
    "print(\"array after insertion sort:\",array)"
   ]
  },
  {
   "cell_type": "code",
   "execution_count": null,
   "id": "33bc9a28",
   "metadata": {},
   "outputs": [],
   "source": []
  }
 ],
 "metadata": {
  "kernelspec": {
   "display_name": "Python 3 (ipykernel)",
   "language": "python",
   "name": "python3"
  },
  "language_info": {
   "codemirror_mode": {
    "name": "ipython",
    "version": 3
   },
   "file_extension": ".py",
   "mimetype": "text/x-python",
   "name": "python",
   "nbconvert_exporter": "python",
   "pygments_lexer": "ipython3",
   "version": "3.9.13"
  }
 },
 "nbformat": 4,
 "nbformat_minor": 5
}
