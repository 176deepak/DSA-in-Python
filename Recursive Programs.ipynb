{
 "cells": [
  {
   "cell_type": "code",
   "execution_count": 1,
   "id": "6989ecda",
   "metadata": {},
   "outputs": [],
   "source": [
    "# recursive programs"
   ]
  },
  {
   "cell_type": "code",
   "execution_count": null,
   "id": "7c60464d",
   "metadata": {},
   "outputs": [],
   "source": [
    "# 1. Program to find a factorail of a number\n",
    "\n",
    "number = int(input(\"Enter number: \"))\n",
    "\n",
    "def factorial(number):\n",
    "    if number == 1 or number == 0:\n",
    "        return 1\n",
    "    else:\n",
    "        fact = number*factorial(number-1)\n",
    "        return fact\n",
    "        \n",
    "factorial(number)"
   ]
  },
  {
   "cell_type": "code",
   "execution_count": 9,
   "id": "3e9ecce5",
   "metadata": {},
   "outputs": [
    {
     "name": "stdout",
     "output_type": "stream",
     "text": [
      "Enter number of total terms in series: 6\n",
      "1 1 2 3 5 8 "
     ]
    }
   ],
   "source": [
    "# 2. Fibonacci Series\n",
    "\n",
    "number = int(input(\"Enter number of total terms in series: \"))\n",
    "def fibonacci(number):\n",
    "    if number == 0 or number == 1:\n",
    "        return 1\n",
    "    else:\n",
    "        return fibonacci(number-1)+fibonacci(number-2)\n",
    "\n",
    "for i in range(number):\n",
    "    print(fibonacci(i), end=\" \")"
   ]
  },
  {
   "cell_type": "code",
   "execution_count": 19,
   "id": "0a66f095",
   "metadata": {},
   "outputs": [
    {
     "name": "stdout",
     "output_type": "stream",
     "text": [
      "Enter 1st number value: 28\n",
      "Enter 2nd number value: 8\n",
      "GCD is: 4\n"
     ]
    }
   ],
   "source": [
    "# 3. Finding Greatest Common Divisior(GCD)\n",
    "\n",
    "n1 = int(input(\"Enter 1st number value: \"))\n",
    "n2 = int(input(\"Enter 2nd number value: \"))\n",
    "\n",
    "def gcd(a,b):\n",
    "    if a == 0:\n",
    "        return b\n",
    "    elif b == 0:\n",
    "        return a\n",
    "    elif b > a:\n",
    "        return gcd(b,a)\n",
    "    else:\n",
    "        return gcd(b, (a%b))\n",
    "        \n",
    "print(\"GCD is:\",gcd(n1, n2))"
   ]
  },
  {
   "cell_type": "code",
   "execution_count": null,
   "id": "d2dd3e00",
   "metadata": {},
   "outputs": [],
   "source": []
  }
 ],
 "metadata": {
  "kernelspec": {
   "display_name": "Python 3 (ipykernel)",
   "language": "python",
   "name": "python3"
  },
  "language_info": {
   "codemirror_mode": {
    "name": "ipython",
    "version": 3
   },
   "file_extension": ".py",
   "mimetype": "text/x-python",
   "name": "python",
   "nbconvert_exporter": "python",
   "pygments_lexer": "ipython3",
   "version": "3.9.13"
  }
 },
 "nbformat": 4,
 "nbformat_minor": 5
}
