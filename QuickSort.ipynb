{
 "cells": [
  {
   "cell_type": "code",
   "execution_count": 1,
   "id": "fff04757",
   "metadata": {},
   "outputs": [],
   "source": [
    "# quicksort algorithm"
   ]
  },
  {
   "cell_type": "code",
   "execution_count": 13,
   "id": "63a178c2",
   "metadata": {},
   "outputs": [
    {
     "name": "stdout",
     "output_type": "stream",
     "text": [
      "Enter size of array: 10\n",
      "Enter element of array: 100\n",
      "Enter element of array: 10\n",
      "Enter element of array: 20\n",
      "Enter element of array: 90\n",
      "Enter element of array: 80\n",
      "Enter element of array: 30\n",
      "Enter element of array: 40\n",
      "Enter element of array: 70\n",
      "Enter element of array: 60\n",
      "Enter element of array: 50\n",
      "Array before QuickSort:  [100, 10, 20, 90, 80, 30, 40, 70, 60, 50]\n",
      "Array after QuickSort:  [10, 20, 30, 40, 50, 60, 70, 80, 90, 100]\n"
     ]
    }
   ],
   "source": [
    "n = int(input(\"Enter size of array: \"))\n",
    "array = []\n",
    "\n",
    "for i in range(n):\n",
    "    element = int(input(\"Enter element of array: \"))\n",
    "    array.append(element)\n",
    "\n",
    "print(\"Array before QuickSort: \", array)\n",
    "\n",
    "\n",
    "def QuickSortPartition(a, lb, ub):\n",
    "    pivot = a[lb]\n",
    "    p = 0\n",
    "    \n",
    "    while(lb < ub):\n",
    "        while((pivot > a[lb]) and (lb < ub)):\n",
    "            lb = lb+1\n",
    "        while(a[ub] > pivot):\n",
    "            ub = ub-1\n",
    "        if lb < ub:\n",
    "            temp = a[lb]\n",
    "            a[lb] = a[ub]\n",
    "            a[ub] = temp\n",
    "        p = ub\n",
    "    return p\n",
    "\n",
    "\n",
    "def QuickSort(a, start, end):\n",
    "    if start < end:\n",
    "        loc = QuickSortPartition(a, start, end)\n",
    "        QuickSort(a, start, loc-1)\n",
    "        QuickSort(a, loc+1, end)\n",
    "\n",
    "QuickSort(array, 0, n-1)\n",
    "\n",
    "print(\"Array after QuickSort: \", array)"
   ]
  },
  {
   "cell_type": "code",
   "execution_count": null,
   "id": "56d30f2b",
   "metadata": {},
   "outputs": [],
   "source": []
  }
 ],
 "metadata": {
  "kernelspec": {
   "display_name": "Python 3 (ipykernel)",
   "language": "python",
   "name": "python3"
  },
  "language_info": {
   "codemirror_mode": {
    "name": "ipython",
    "version": 3
   },
   "file_extension": ".py",
   "mimetype": "text/x-python",
   "name": "python",
   "nbconvert_exporter": "python",
   "pygments_lexer": "ipython3",
   "version": "3.9.13"
  }
 },
 "nbformat": 4,
 "nbformat_minor": 5
}
