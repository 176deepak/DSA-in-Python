{
 "cells": [
  {
   "cell_type": "code",
   "execution_count": null,
   "id": "58a9c2b3",
   "metadata": {},
   "outputs": [
    {
     "name": "stdout",
     "output_type": "stream",
     "text": [
      "Enter size of Queue: 5\n",
      "Queue operations:-\n",
      "1.Enqueue operation\n",
      "2.Dequeue operation\n",
      "3.Exit\n",
      "Enter choice: 10\n",
      "Enter choice: 1\n",
      "Enter new element: 20\n",
      "Element successfully inserted.\n",
      "Enter choice: 1\n",
      "Enter new element: 30\n",
      "Element successfully inserted.\n",
      "Enter choice: 1\n",
      "Enter new element: 40\n",
      "Element successfully inserted.\n",
      "Enter choice: 1\n",
      "Enter new element: 50\n",
      "Element successfully inserted.\n",
      "Enter choice: 1\n",
      "Enter new element: 10\n",
      "Element successfully inserted.\n",
      "Enter choice: 1\n",
      "Queue is full\n",
      "Enter choice: 2\n",
      "Element deleted successfully.\n",
      "Updated queue:  [30, 40, 50, 10]\n",
      "Enter choice: 2\n",
      "Element deleted successfully.\n",
      "Updated queue:  [40, 50, 10]\n"
     ]
    }
   ],
   "source": [
    "# Program for implementation of Queue using array or list\n",
    "\n",
    "size = int(input(\"Enter size of Queue: \"))\n",
    "MaxSize = size\n",
    "\n",
    "class Queue:\n",
    "    def __init__(self):\n",
    "        self.Front = 0\n",
    "        self.Rear = -1\n",
    "        self.queue = [None for i in range(size)]\n",
    "    \n",
    "    def enqueue(self):\n",
    "        if self.Rear == MaxSize-1:\n",
    "            print(\"Queue is full\")\n",
    "        else:\n",
    "            element = int(input(\"Enter new element: \"))\n",
    "            self.Rear = self.Rear+1\n",
    "            self.queue[self.Rear] = element\n",
    "            print(\"Element successfully inserted.\")\n",
    "    \n",
    "    def dequeue(self):\n",
    "        if self.Rear == -1:\n",
    "            print(\"Queue is empty.\")\n",
    "        else:\n",
    "            deleted_element = self.queue.pop(self.Front)\n",
    "            self.Rear = self.Rear-1\n",
    "            print(\"Element deleted successfully.\")\n",
    "            print(\"Updated queue: \",self.queue)\n",
    "            \n",
    "q = Queue()\n",
    "\n",
    "print(\"Queue operations:-\\n1.Enqueue operation\\n2.Dequeue operation\\n3.Exit\")\n",
    "\n",
    "while True:\n",
    "    operation = int(input(\"Enter choice: \"))\n",
    "    if operation == 1:\n",
    "        q.enqueue()\n",
    "    elif operation == 2:\n",
    "        q.dequeue()\n",
    "    elif operation == 3:\n",
    "        break"
   ]
  },
  {
   "cell_type": "code",
   "execution_count": null,
   "id": "c6fa3f16",
   "metadata": {},
   "outputs": [],
   "source": [
    ":"
   ]
  }
 ],
 "metadata": {
  "kernelspec": {
   "display_name": "Python 3 (ipykernel)",
   "language": "python",
   "name": "python3"
  },
  "language_info": {
   "codemirror_mode": {
    "name": "ipython",
    "version": 3
   },
   "file_extension": ".py",
   "mimetype": "text/x-python",
   "name": "python",
   "nbconvert_exporter": "python",
   "pygments_lexer": "ipython3",
   "version": "3.9.13"
  }
 },
 "nbformat": 4,
 "nbformat_minor": 5
}
