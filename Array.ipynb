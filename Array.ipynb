{
 "cells": [
  {
   "cell_type": "code",
   "execution_count": 3,
   "id": "b39f724a",
   "metadata": {},
   "outputs": [
    {
     "name": "stdout",
     "output_type": "stream",
     "text": [
      "10\n",
      "20\n",
      "30\n",
      "40\n",
      "50\n"
     ]
    }
   ],
   "source": [
    "#1 To accesses array elements using indexes\n",
    "from array import array\n",
    "\n",
    "arr=array(\"i\", [10,20,30,40,50])\n",
    "\n",
    "for i in range(len(arr)):\n",
    "    print(arr[i])"
   ]
  },
  {
   "cell_type": "code",
   "execution_count": null,
   "id": "694f0956",
   "metadata": {},
   "outputs": [],
   "source": [
    "#2 To find the sum marks of n studdents using arrays\n",
    "from array import array\n",
    "\n",
    "def sum_marks():\n",
    "    sum=0\n",
    "    arr=array(\"i\",[])\n",
    "    n=int(input(\"Enter number of students: \"))\n",
    "    for i in range(n):\n",
    "        print(\"Enter marks of student \",i+1,\":\")\n",
    "        marks=int(input())\n",
    "        arr.insert(i,marks)\n",
    "        sum=marks+sum\n",
    "    return \"sum of marks is:\",sum\n",
    "sum_marks()"
   ]
  },
  {
   "cell_type": "code",
   "execution_count": 3,
   "id": "fed6cdfb",
   "metadata": {},
   "outputs": [
    {
     "name": "stdout",
     "output_type": "stream",
     "text": [
      "Enter number of rows: 3\n",
      "Enter number of columns: 3\n",
      "Enter value of element[ 0 ][ 0 ]\n",
      "1\n",
      "Enter value of element[ 0 ][ 1 ]\n",
      "2\n",
      "Enter value of element[ 0 ][ 2 ]\n",
      "3\n",
      "Enter value of element[ 1 ][ 0 ]\n",
      "4\n",
      "Enter value of element[ 1 ][ 1 ]\n",
      "5\n",
      "Enter value of element[ 1 ][ 2 ]\n",
      "6\n",
      "Enter value of element[ 2 ][ 0 ]\n",
      "7\n",
      "Enter value of element[ 2 ][ 1 ]\n",
      "8\n",
      "Enter value of element[ 2 ][ 2 ]\n",
      "9\n",
      "[[1, 2, 3], [4, 5, 6], [7, 8, 9]]\n"
     ]
    }
   ],
   "source": [
    "#3 Demo of 2dimensinol array\n",
    "\n",
    "m = int(input(\"Enter number of rows: \"))\n",
    "n = int(input(\"Enter number of columns: \"))\n",
    "\n",
    "arr = []\n",
    "\n",
    "for i in range(m):\n",
    "    a = []\n",
    "    for j in range(n):\n",
    "        print(\"Enter value of element[\",i,\"][\",j,\"]\")\n",
    "        a.append(int(input()))\n",
    "    arr.append(a)\n",
    "    \n",
    "print(arr)"
   ]
  },
  {
   "cell_type": "code",
   "execution_count": null,
   "id": "77569bf5",
   "metadata": {},
   "outputs": [],
   "source": []
  }
 ],
 "metadata": {
  "kernelspec": {
   "display_name": "Python 3 (ipykernel)",
   "language": "python",
   "name": "python3"
  },
  "language_info": {
   "codemirror_mode": {
    "name": "ipython",
    "version": 3
   },
   "file_extension": ".py",
   "mimetype": "text/x-python",
   "name": "python",
   "nbconvert_exporter": "python",
   "pygments_lexer": "ipython3",
   "version": "3.9.13"
  }
 },
 "nbformat": 4,
 "nbformat_minor": 5
}
