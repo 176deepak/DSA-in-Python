{
 "cells": [
  {
   "cell_type": "markdown",
   "id": "4311403c",
   "metadata": {},
   "source": [
    "## Bubble sort Algorithm "
   ]
  },
  {
   "cell_type": "code",
   "execution_count": 3,
   "id": "57a7d85f",
   "metadata": {},
   "outputs": [
    {
     "name": "stdout",
     "output_type": "stream",
     "text": [
      "Enter size of array: 10\n",
      "Enter element of array: 100\n",
      "Enter element of array: 10\n",
      "Enter element of array: 90\n",
      "Enter element of array: 20\n",
      "Enter element of array: 80\n",
      "Enter element of array: 30\n",
      "Enter element of array: 70\n",
      "Enter element of array: 40\n",
      "Enter element of array: 60\n",
      "Enter element of array: 50\n",
      "Array before BubbleSort:  [100, 10, 90, 20, 80, 30, 70, 40, 60, 50]\n",
      "Array before BubbleSort:  [10, 20, 30, 40, 50, 60, 70, 80, 90, 100]\n"
     ]
    }
   ],
   "source": [
    "n = int(input(\"Enter size of array: \"))\n",
    "array = []\n",
    "\n",
    "for i in range(n):\n",
    "    element = int(input(\"Enter element of array: \"))\n",
    "    array.append(element)\n",
    "\n",
    "print(\"Array before BubbleSort: \", array)\n",
    "\n",
    "def bubbleSort(arr, n):\n",
    "    for i in range(n):\n",
    "        for j in range(n-1):\n",
    "            k = j\n",
    "            if arr[j] > arr[k+1]:\n",
    "                temp = arr[j]\n",
    "                arr[j] = arr[k+1]\n",
    "                arr[k+1] = temp\n",
    "                \n",
    "bubbleSort(array, n)\n",
    "\n",
    "print(\"Array before BubbleSort: \", array)"
   ]
  },
  {
   "cell_type": "code",
   "execution_count": null,
   "id": "aa853cc2",
   "metadata": {},
   "outputs": [],
   "source": []
  }
 ],
 "metadata": {
  "kernelspec": {
   "display_name": "Python 3 (ipykernel)",
   "language": "python",
   "name": "python3"
  },
  "language_info": {
   "codemirror_mode": {
    "name": "ipython",
    "version": 3
   },
   "file_extension": ".py",
   "mimetype": "text/x-python",
   "name": "python",
   "nbconvert_exporter": "python",
   "pygments_lexer": "ipython3",
   "version": "3.9.13"
  }
 },
 "nbformat": 4,
 "nbformat_minor": 5
}
